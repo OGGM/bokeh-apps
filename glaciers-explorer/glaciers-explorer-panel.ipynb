{
 "cells": [
  {
   "cell_type": "code",
   "execution_count": null,
   "metadata": {
    "scrolled": false
   },
   "outputs": [],
   "source": [
    "import os, numpy as np, pandas as pd, cartopy.crs as ccrs, bokeh\n",
    "import holoviews as hv, geoviews as gv\n",
    "\n",
    "from colorcet import kbc\n",
    "from holoviews.util import Dynamic\n",
    "\n",
    "_ = hv.extension('bokeh', width=100, logo=False);"
   ]
  },
  {
   "cell_type": "code",
   "execution_count": null,
   "metadata": {
    "scrolled": false
   },
   "outputs": [],
   "source": [
    "df = pd.read_csv('./data/glaciers-explorer.csv')\n",
    "df = df.sort_values(by='rgi_area_km2').reset_index(drop=True)\n",
    "df['text'] = ['Id: {} - Area: {:.2f} km2 - Glaciers: {}'.format(i, a, n) \n",
    "              for i, (a, n) in enumerate(zip(df.rgi_area_km2, df.n_glaciers))]"
   ]
  },
  {
   "cell_type": "code",
   "execution_count": null,
   "metadata": {
    "scrolled": false
   },
   "outputs": [],
   "source": [
    "data = hv.Dataset(df, [('cenlon', 'Longitude'), ('cenlat', 'Latitude')],\n",
    "                     [('tstar_avg_prcp', 'Annual Precipitation (mm/yr)'),\n",
    "                      ('rgi_area_km2', 'Area'), ('text', 'Info'),\n",
    "                      ('tstar_avg_temp_mean_elev', 'Annual Temperature at avg. altitude'), \n",
    "                      ('dem_mean_elev', 'Elevation'), 'n_glaciers'])"
   ]
  },
  {
   "cell_type": "code",
   "execution_count": null,
   "metadata": {
    "scrolled": false
   },
   "outputs": [],
   "source": [
    "temp_kw   = dict(num_bins=50, adjoin=False, normed=False, bin_range=data.range('tstar_avg_temp_mean_elev'))\n",
    "prcp_kw   = dict(num_bins=50, adjoin=False, normed=False, bin_range=data.range('tstar_avg_prcp'))\n",
    "\n",
    "geo_opts  = dict(width=600, height=300, cmap=kbc[::-1][20:], global_extent=True, logz=False, colorbar=True, \n",
    "                 projection=ccrs.Robinson(), color_index='rgi_area_km2', default_tools=[], toolbar=None, alpha=1.0)\n",
    "elev_opts = dict(width=600, height=300, show_grid=True, color='#7d3c98', default_tools=[], toolbar=None, alpha=1.0)\n",
    "temp_opts = dict(width=600, height=300,            fill_color='#f1948a', default_tools=[], toolbar=None, alpha=1.0)\n",
    "prcp_opts = dict(width=600, height=300,            fill_color='#85c1e9', default_tools=[], toolbar=None, alpha=1.0)\n",
    "\n",
    "geo_bg    = gv.feature.coastline.options(default_tools=['wheel_zoom'], toolbar=None)"
   ]
  },
  {
   "cell_type": "code",
   "execution_count": null,
   "metadata": {
    "scrolled": false
   },
   "outputs": [],
   "source": [
    "# (geo_bg * gv.Points(data).options(**geo_opts) +\n",
    "#  data.to(hv.Scatter, 'dem_mean_elev','cenlat',[]).options(**elev_opts) + \n",
    "#  data.hist('tstar_avg_temp_mean_elev', **temp_kw).options(**temp_opts) +\n",
    "#  data.hist('tstar_avg_prcp',           **prcp_kw).options(**prcp_opts)).options(shared_axes=False).cols(2)"
   ]
  },
  {
   "cell_type": "code",
   "execution_count": null,
   "metadata": {
    "scrolled": false
   },
   "outputs": [],
   "source": [
    "def geo(data):   return gv.Points(data).options(**geo_opts)\n",
    "def elev(data):  return data.to(hv.Scatter, 'dem_mean_elev', 'cenlat', []).options(**elev_opts)\n",
    "def temp(data):  return data.hist('tstar_avg_temp_mean_elev', **temp_kw).options(**temp_opts)\n",
    "def prcp(data):  return data.hist('tstar_avg_prcp',           **prcp_kw).options(**prcp_opts)\n",
    "\n",
    "def count(data): return hv.Div('<p style=\"font-size:20px\">Glaciers selected: ' + \n",
    "                        str(data.dframe().n_glaciers.sum()) + \"</font>\").options(height=40)"
   ]
  },
  {
   "cell_type": "code",
   "execution_count": null,
   "metadata": {
    "scrolled": false
   },
   "outputs": [],
   "source": [
    "from bokeh.models import HoverTool\n",
    "hover = HoverTool(tooltips=[('Info', '@{text}')])\n",
    "\n",
    "static_geo  = geo( data).options(alpha=0.03, tools=[hover, 'box_select'])\n",
    "static_elev = elev(data).options(alpha=0.1,  tools=[       'box_select'])\n",
    "static_temp = temp(data).options(alpha=0.1)\n",
    "static_prcp = prcp(data).options(alpha=0.1)"
   ]
  },
  {
   "cell_type": "code",
   "execution_count": null,
   "metadata": {
    "scrolled": false
   },
   "outputs": [],
   "source": [
    "def combine_selections(**kwargs):\n",
    "    \"Combines selections on all available plots into a single selection by index.\"\n",
    "    \n",
    "    if all(not v for v in kwargs.values()):\n",
    "        return slice(None)\n",
    "    selection = {}\n",
    "    for key, bounds in kwargs.items():\n",
    "        if bounds is None:\n",
    "            continue\n",
    "        elif len(bounds) == 2:\n",
    "            selection[key] = bounds\n",
    "        else:\n",
    "            xbound, ybound = key.split('__')\n",
    "            selection[xbound] = bounds[0], bounds[2]\n",
    "            selection[ybound] = bounds[1], bounds[3]\n",
    "    return sorted(set(data.select(**selection).data.index))\n",
    "\n",
    "def select_data(**kwargs):\n",
    "    return data.iloc[combine_selections(**kwargs)] if kwargs else data"
   ]
  },
  {
   "cell_type": "code",
   "execution_count": null,
   "metadata": {
    "scrolled": false
   },
   "outputs": [],
   "source": [
    "from holoviews.streams import Stream, BoundsXY, BoundsX\n",
    "\n",
    "geo_bounds  = BoundsXY(source=static_geo,  rename={'bounds':  'cenlon__cenlat'})\n",
    "elev_bounds = BoundsXY(source=static_elev, rename={'bounds':  'dem_mean_elev__cenlat'})\n",
    "temp_bounds = BoundsX( source=static_temp, rename={'boundsx': 'tstar_avg_temp_mean_elev'})\n",
    "prcp_bounds = BoundsX( source=static_prcp, rename={'boundsx': 'tstar_avg_prcp'})\n",
    "\n",
    "selections  = [geo_bounds, elev_bounds, temp_bounds, prcp_bounds]"
   ]
  },
  {
   "cell_type": "code",
   "execution_count": null,
   "metadata": {
    "scrolled": false
   },
   "outputs": [],
   "source": [
    "dyn_data  = hv.DynamicMap(select_data, streams=selections)\n",
    "dyn_count = Dynamic(dyn_data, operation=count)\n",
    "\n",
    "geomap  = geo_bg * static_geo  * Dynamic(dyn_data, operation=geo)\n",
    "elevation        = static_elev * Dynamic(dyn_data, operation=elev)\n",
    "temperature      = static_temp * Dynamic(dyn_data, operation=temp)\n",
    "precipitation    = static_prcp * Dynamic(dyn_data, operation=prcp)"
   ]
  },
  {
   "cell_type": "code",
   "execution_count": null,
   "metadata": {
    "scrolled": false
   },
   "outputs": [],
   "source": [
    "def clear_selections(arg=None):\n",
    "    geo_bounds.update(bounds=None)\n",
    "    elev_bounds.update(bounds=None)\n",
    "    temp_bounds.update(boundsx=None)\n",
    "    prcp_bounds.update(boundsx=None)\n",
    "    Stream.trigger(selections)"
   ]
  },
  {
   "cell_type": "code",
   "execution_count": null,
   "metadata": {
    "scrolled": false
   },
   "outputs": [],
   "source": [
    "import panel as pn\n",
    "pn.extension()\n",
    "\n",
    "clear_button = pn.widgets.Button(name='Clear selection')\n",
    "clear_button.param.watch(clear_selections, 'clicks');"
   ]
  },
  {
   "cell_type": "code",
   "execution_count": null,
   "metadata": {
    "scrolled": false
   },
   "outputs": [],
   "source": [
    "title       = '<p style=\"font-size:35px\">World glaciers explorer</p>'\n",
    "instruction = 'Box-select on each plot to subselect; clear selection to reset.<br>' + \\\n",
    "              'See the <a href=\"https://anaconda.org/jbednar/glaciers\">Jupyter notebook</a> source code for how to build apps like this!'\n",
    "oggm_logo   = '<a href=\"https://github.com/OGGM/OGGM-Dash\"><img src=\"https://raw.githubusercontent.com/OGGM/oggm/master/docs/_static/logos/oggm_s_alpha.png\" width=170></a>'\n",
    "pv_logo     = '<a href=\"https://pyviz.org\"><img src=\"http://pyviz.org/assets/PyViz_logo_wm.png\" width=80></a>'"
   ]
  },
  {
   "cell_type": "code",
   "execution_count": null,
   "metadata": {},
   "outputs": [],
   "source": [
    "header = pn.Row(pn.Pane(oggm_logo, width=170), pn.Spacer(width=50), \n",
    "                pn.Column(pn.Pane(title, height=25, width=400), pn.Spacer(height=-15), pn.Pane(instruction, width=500)),\n",
    "                pn.Spacer(width=180), pn.Column(pn.Pane(dyn_count), clear_button, pn.Spacer(height=-15)), \n",
    "                pn.Pane(pv_logo, width=80))\n",
    "\n",
    "pn.Column(header, pn.Spacer(height=-40), pn.Row(geomap, elevation), pn.Row(temperature, precipitation))"
   ]
  }
 ],
 "metadata": {
  "hide_input": false,
  "kernelspec": {
   "display_name": "Python 3",
   "language": "python",
   "name": "python3"
  },
  "language_info": {
   "codemirror_mode": {
    "name": "ipython",
    "version": 3
   },
   "file_extension": ".py",
   "mimetype": "text/x-python",
   "name": "python",
   "nbconvert_exporter": "python",
   "pygments_lexer": "ipython3",
   "version": "3.6.6"
  },
  "toc": {
   "base_numbering": 1,
   "nav_menu": {},
   "number_sections": false,
   "sideBar": true,
   "skip_h1_title": true,
   "title_cell": "Table of Contents",
   "title_sidebar": "Contents",
   "toc_cell": false,
   "toc_position": {},
   "toc_section_display": true,
   "toc_window_display": false
  }
 },
 "nbformat": 4,
 "nbformat_minor": 2
}
